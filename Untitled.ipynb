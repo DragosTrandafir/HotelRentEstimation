{
 "cells": [
  {
   "cell_type": "code",
   "execution_count": 1,
   "id": "d26417e9-44a6-41a5-bb53-bddafd566914",
   "metadata": {},
   "outputs": [],
   "source": [
    "import numpy as np"
   ]
  },
  {
   "cell_type": "code",
   "execution_count": 2,
   "id": "bc69de42-5c36-454e-85ac-4ebe76c91cc1",
   "metadata": {},
   "outputs": [],
   "source": [
    "def compute_cost_linear_regression(X, y, w, b, lambda1=1):\n",
    "    '''\n",
    "    Description: computes the cost for regularized linear regression\n",
    "    ( the term with the numerator lambda helps to minimize the size of the parameters \n",
    "    (w1, w2,...),\n",
    "    but I use the version where b is not regularized )\n",
    "    Preconditions: X - m x n matrix which contains our data \n",
    "                    y - m size array - target values\n",
    "                    w - n size array - model parameters\n",
    "                    b - real number - free term parameter\n",
    "                    lambda1 - real number - quantifier for regularization\n",
    "    Postconditons: total_cost - real number - the cost of our calculations, which will help\n",
    "    later to build a better model\n",
    "    '''\n",
    "    m = X.shape[0] # number of input data examples\n",
    "    n = X.shape[1] # number of features of each example\n",
    "\n",
    "    cost = 0\n",
    "    for i in range(m):\n",
    "       f_wb = np.dot(X[i],w)+b # the formula of linear regression model\n",
    "       cost+= (f_wb-y[i])**2 \n",
    "    cost = cost/(2*m)    # until here, we just applied the formula of the cost without regularization\n",
    "\n",
    "    # the regularization part\n",
    "    cost_r = 0\n",
    "    for j in range(n):\n",
    "        cost_r+= w[j]**2\n",
    "    cost_r = (lamda1/(2*m))* cost_r\n",
    "\n",
    "    # adding the 2 costs\n",
    "    total_cost = cost + cost_r\n",
    "    return total_cost"
   ]
  },
  {
   "cell_type": "code",
   "execution_count": null,
   "id": "fcd0e20d-e678-4dc0-94d8-d91f2ab72d8a",
   "metadata": {},
   "outputs": [],
   "source": []
  }
 ],
 "metadata": {
  "kernelspec": {
   "display_name": "Python 3 (ipykernel)",
   "language": "python",
   "name": "python3"
  },
  "language_info": {
   "codemirror_mode": {
    "name": "ipython",
    "version": 3
   },
   "file_extension": ".py",
   "mimetype": "text/x-python",
   "name": "python",
   "nbconvert_exporter": "python",
   "pygments_lexer": "ipython3",
   "version": "3.12.0"
  }
 },
 "nbformat": 4,
 "nbformat_minor": 5
}
